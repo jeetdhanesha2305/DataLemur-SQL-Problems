{
  "nbformat": 4,
  "nbformat_minor": 0,
  "metadata": {
    "colab": {
      "provenance": [],
      "authorship_tag": "ABX9TyMLZjJ1xMFFkzBEY/d8DBCP"
    },
    "kernelspec": {
      "name": "python3",
      "display_name": "Python 3"
    },
    "language_info": {
      "name": "python"
    }
  },
  "cells": [
    {
      "cell_type": "code",
      "source": [
        "from pyspark.sql import SparkSession\n",
        "from pyspark.sql import DataFrame\n",
        "import pyspark.sql.functions as F"
      ],
      "metadata": {
        "id": "S2shGK5bZqO4"
      },
      "execution_count": 39,
      "outputs": []
    },
    {
      "cell_type": "code",
      "source": [
        "spark = SparkSession.builder.getOrCreate()"
      ],
      "metadata": {
        "id": "mKihP4XoZrUc"
      },
      "execution_count": 32,
      "outputs": []
    },
    {
      "cell_type": "code",
      "execution_count": 33,
      "metadata": {
        "colab": {
          "base_uri": "https://localhost:8080/"
        },
        "id": "t4yWH_l7YpwR",
        "outputId": "8091d584-64a6-4c9a-a8a4-be40bee17fd8"
      },
      "outputs": [
        {
          "output_type": "stream",
          "name": "stdout",
          "text": [
            "+------+-------------+-----------+\n",
            "|log_id|ip           |status_code|\n",
            "+------+-------------+-----------+\n",
            "|1     |192.168.1.1  |200        |\n",
            "|2     |256.1.2.3    |404        |\n",
            "|3     |192.168.001.1|200        |\n",
            "|4     |192.168.1.1  |200        |\n",
            "|5     |192.168.1    |500        |\n",
            "|6     |256.1.2.3    |404        |\n",
            "|7     |192.168.001.1|200        |\n",
            "+------+-------------+-----------+\n",
            "\n"
          ]
        }
      ],
      "source": [
        "logs_data = [\n",
        "    (1, \"192.168.1.1\", 200),\n",
        "    (2, \"256.1.2.3\", 404),\n",
        "    (3, \"192.168.001.1\", 200),\n",
        "    (4, \"192.168.1.1\", 200),\n",
        "    (5, \"192.168.1\", 500),\n",
        "    (6, \"256.1.2.3\", 404),\n",
        "    (7, \"192.168.001.1\", 200),\n",
        "]\n",
        "\n",
        "logs_columns = [\"log_id\", \"ip\", \"status_code\"]\n",
        "\n",
        "logs_df = spark.createDataFrame(logs_data, logs_columns)\n",
        "logs_df.show(truncate=False)"
      ]
    },
    {
      "cell_type": "code",
      "source": [
        "output_data = [\n",
        "    (\"256.1.2.3\", 2),\n",
        "    (\"192.168.001.1\", 2),\n",
        "    (\"192.168.1\", 1),\n",
        "]\n",
        "\n",
        "output_columns = [\"ip\", \"invalid_count\"]\n",
        "\n",
        "output_df = spark.createDataFrame(output_data, output_columns)\n",
        "output_df.show(truncate=False)"
      ],
      "metadata": {
        "colab": {
          "base_uri": "https://localhost:8080/"
        },
        "id": "TAaWHA7XZ8ho",
        "outputId": "c43c8376-7b70-47c9-b018-eaa0db57a77b"
      },
      "execution_count": 34,
      "outputs": [
        {
          "output_type": "stream",
          "name": "stdout",
          "text": [
            "+-------------+-------------+\n",
            "|ip           |invalid_count|\n",
            "+-------------+-------------+\n",
            "|256.1.2.3    |2            |\n",
            "|192.168.001.1|2            |\n",
            "|192.168.1    |1            |\n",
            "+-------------+-------------+\n",
            "\n"
          ]
        }
      ]
    },
    {
      "cell_type": "code",
      "source": [
        "logs_ip_octets_df = (\n",
        "    logs_df\n",
        "    .withColumn(\"ip_octets_arr\", F.split(\"ip\", r\"\\.\"))\n",
        "    .withColumn(\"ip_octets_expl\", F.explode(\"ip_octets_arr\") )\n",
        ")\n",
        "\n",
        "logs_ip_octets_df.show(truncate=False)"
      ],
      "metadata": {
        "colab": {
          "base_uri": "https://localhost:8080/"
        },
        "id": "7pfArSiHaAc3",
        "outputId": "d0eaae20-708e-47ca-aaff-41913c1776f1"
      },
      "execution_count": 35,
      "outputs": [
        {
          "output_type": "stream",
          "name": "stdout",
          "text": [
            "+------+-------------+-----------+------------------+--------------+\n",
            "|log_id|ip           |status_code|ip_octets_arr     |ip_octets_expl|\n",
            "+------+-------------+-----------+------------------+--------------+\n",
            "|1     |192.168.1.1  |200        |[192, 168, 1, 1]  |192           |\n",
            "|1     |192.168.1.1  |200        |[192, 168, 1, 1]  |168           |\n",
            "|1     |192.168.1.1  |200        |[192, 168, 1, 1]  |1             |\n",
            "|1     |192.168.1.1  |200        |[192, 168, 1, 1]  |1             |\n",
            "|2     |256.1.2.3    |404        |[256, 1, 2, 3]    |256           |\n",
            "|2     |256.1.2.3    |404        |[256, 1, 2, 3]    |1             |\n",
            "|2     |256.1.2.3    |404        |[256, 1, 2, 3]    |2             |\n",
            "|2     |256.1.2.3    |404        |[256, 1, 2, 3]    |3             |\n",
            "|3     |192.168.001.1|200        |[192, 168, 001, 1]|192           |\n",
            "|3     |192.168.001.1|200        |[192, 168, 001, 1]|168           |\n",
            "|3     |192.168.001.1|200        |[192, 168, 001, 1]|001           |\n",
            "|3     |192.168.001.1|200        |[192, 168, 001, 1]|1             |\n",
            "|4     |192.168.1.1  |200        |[192, 168, 1, 1]  |192           |\n",
            "|4     |192.168.1.1  |200        |[192, 168, 1, 1]  |168           |\n",
            "|4     |192.168.1.1  |200        |[192, 168, 1, 1]  |1             |\n",
            "|4     |192.168.1.1  |200        |[192, 168, 1, 1]  |1             |\n",
            "|5     |192.168.1    |500        |[192, 168, 1]     |192           |\n",
            "|5     |192.168.1    |500        |[192, 168, 1]     |168           |\n",
            "|5     |192.168.1    |500        |[192, 168, 1]     |1             |\n",
            "|6     |256.1.2.3    |404        |[256, 1, 2, 3]    |256           |\n",
            "+------+-------------+-----------+------------------+--------------+\n",
            "only showing top 20 rows\n",
            "\n"
          ]
        }
      ]
    },
    {
      "cell_type": "code",
      "source": [
        "logs_ip_octets_df = (\n",
        "    logs_ip_octets_df\n",
        "    .filter(\n",
        "        ( ~F.col(\"ip\").rlike(r\"^\\d+\\.\\d+\\.\\d+\\.\\d+$\") ) |\n",
        "        ( ( F.col(\"ip_octets_expl\").rlike(\"0.*\") ) & ( F.char_length(\"ip_octets_expl\") > 1 ) ) |\n",
        "        ( F.col(\"ip_octets_expl\").cast(\"int\") > 255 )\n",
        "\n",
        "     )\n",
        ")\n",
        "logs_ip_octets_df.show(truncate=False)"
      ],
      "metadata": {
        "colab": {
          "base_uri": "https://localhost:8080/"
        },
        "id": "e7bIsMz1a1xt",
        "outputId": "43a572ae-c207-419e-aab9-1400d0eb5356"
      },
      "execution_count": 36,
      "outputs": [
        {
          "output_type": "stream",
          "name": "stdout",
          "text": [
            "+------+-------------+-----------+------------------+--------------+\n",
            "|log_id|ip           |status_code|ip_octets_arr     |ip_octets_expl|\n",
            "+------+-------------+-----------+------------------+--------------+\n",
            "|2     |256.1.2.3    |404        |[256, 1, 2, 3]    |256           |\n",
            "|3     |192.168.001.1|200        |[192, 168, 001, 1]|001           |\n",
            "|5     |192.168.1    |500        |[192, 168, 1]     |192           |\n",
            "|5     |192.168.1    |500        |[192, 168, 1]     |168           |\n",
            "|5     |192.168.1    |500        |[192, 168, 1]     |1             |\n",
            "|6     |256.1.2.3    |404        |[256, 1, 2, 3]    |256           |\n",
            "|7     |192.168.001.1|200        |[192, 168, 001, 1]|001           |\n",
            "+------+-------------+-----------+------------------+--------------+\n",
            "\n"
          ]
        }
      ]
    },
    {
      "cell_type": "code",
      "source": [
        "res_df = (\n",
        "    logs_ip_octets_df\n",
        "    .groupBy(\"ip\")\n",
        "    .agg( F.count_distinct( F.col(\"log_id\") ).alias(\"invalid_count\") )\n",
        "    .orderBy( F.col(\"invalid_count\").desc(), F.col(\"ip\").desc() )\n",
        ")\n",
        "\n",
        "res_df.show(truncate=False)"
      ],
      "metadata": {
        "colab": {
          "base_uri": "https://localhost:8080/"
        },
        "id": "v9mKLHjtcPdu",
        "outputId": "c794e99d-0efc-4320-ef45-8552bbfcddd9"
      },
      "execution_count": 37,
      "outputs": [
        {
          "output_type": "stream",
          "name": "stdout",
          "text": [
            "+-------------+-------------+\n",
            "|ip           |invalid_count|\n",
            "+-------------+-------------+\n",
            "|256.1.2.3    |2            |\n",
            "|192.168.001.1|2            |\n",
            "|192.168.1    |1            |\n",
            "+-------------+-------------+\n",
            "\n"
          ]
        }
      ]
    },
    {
      "cell_type": "code",
      "source": [
        "def validate_result(calculated_df: DataFrame, expected_df: DataFrame):\n",
        "    calculated_df_data = calculated_df.sort(calculated_df.columns).collect()\n",
        "    expected_df_data = expected_df.sort(expected_df.columns).collect()\n",
        "\n",
        "    assert calculated_df_data == expected_df_data, \"❌ Data Mismatched\"\n",
        "    print(\"✅ Data Matched\")\n",
        "\n",
        "    print(\"🎉 Test Case Passed !!!\")"
      ],
      "metadata": {
        "id": "C40RObzFcqRE"
      },
      "execution_count": 42,
      "outputs": []
    },
    {
      "cell_type": "code",
      "source": [
        "validate_result(calculated_df=res_df, expected_df=output_df)"
      ],
      "metadata": {
        "colab": {
          "base_uri": "https://localhost:8080/"
        },
        "id": "D9uzs4kHg9ok",
        "outputId": "c70b92a6-0d04-45c3-ffc3-d6cfacb8d50e"
      },
      "execution_count": 43,
      "outputs": [
        {
          "output_type": "stream",
          "name": "stdout",
          "text": [
            "✅ Data Matched\n",
            "🎉 Test Case Passed !!!\n"
          ]
        }
      ]
    }
  ]
}